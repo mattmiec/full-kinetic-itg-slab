{
 "cells": [
  {
   "cell_type": "code",
   "execution_count": 2,
   "metadata": {
    "autoscroll": false,
    "ein.hycell": false,
    "ein.tags": "worksheet-0",
    "slideshow": {
     "slide_type": "-"
    }
   },
   "outputs": [],
   "source": [
    "import sys\n",
    "sys.path.insert(0, '/home/matt/plasma/fk-itg-slab/diagnostics/')\n",
    "import yoshida_bin\n",
    "import numpy as np\n",
    "import matplotlib.pyplot as plt\n",
    "%matplotlib inline"
   ]
  },
  {
   "cell_type": "code",
   "execution_count": 42,
   "metadata": {
    "autoscroll": false,
    "ein.hycell": false,
    "ein.tags": "worksheet-0",
    "slideshow": {
     "slide_type": "-"
    }
   },
   "outputs": [
    {
     "name": "stdout",
     "output_type": "stream",
     "text": [
      "omega =  -9578397182673524.0 -6.337165501334652e+17\n",
      "omega =  -9578397182673524.0 -6.337165501334652e+17\n",
      "omega =  -9578397182673524.0 -6.337165501334652e+17\n",
      "omega =  -9578397182673524.0 -6.337165501334652e+17\n",
      "omega =  -9578397182673524.0 -6.337165501334652e+17\n",
      "omega =  -9578397182673524.0 -6.337165501334652e+17\n",
      "omega =  -9578397182673524.0 -6.337165501334652e+17\n",
      "omega =  -9578397182673524.0 -6.337165501334652e+17\n",
      "omega =  -9578397182673524.0 -6.337165501334652e+17\n",
      "omega =  -9578397182673524.0 -6.337165501334652e+17\n",
      "\n",
      "omega =  1.99256028775608 0.0\n",
      "omega =  1.9709350813718756 0.0\n",
      "omega =  1.9370092625236666 0.0\n",
      "omega =  1.8933894712366788 0.0\n",
      "omega =  1.8429052589131234 0.0\n",
      "omega =  1.7882461494177284 0.0\n",
      "omega =  1.73176475540959 0.0\n",
      "omega =  1.675401448849167 0.0\n",
      "omega =  1.620676984332246 0.0\n",
      "omega =  1.5687169140845136 0.0\n",
      "\n",
      "omega =  2.9999507891460904 5.6055155342345175e-11\n",
      "omega =  2.9992485329987515 7.016951740632834e-10\n",
      "omega =  2.996469212375773 1.4806716497995333e-09\n",
      "omega =  2.9898893283706864 8.833904217179015e-10\n",
      "omega =  2.9780735339223634 3.3770881183594587e-11\n",
      "omega =  2.960242483753644 2.380249076741291e-12\n",
      "omega =  2.9363604779291603 5.2433796751310976e-14\n",
      "omega =  2.9070147057145785 6.764878813893992e-16\n",
      "omega =  2.8732007836162228 2.873932515859574e-18\n",
      "omega =  2.836107037038292 3.74167593457185e-21\n",
      "\n",
      "omega =  3.999999789875977 -5.3615628788359196e-08\n",
      "omega =  3.9999904889715046 -1.3622699289479805e-11\n",
      "omega =  3.9998982703190546 -1.0974993687279241e-10\n",
      "omega =  3.9994766694651585 -2.788754193190064e-10\n",
      "omega =  3.9982168360603967 -2.880394412547726e-10\n",
      "omega =  3.995354221037143 -2.6397579266201157e-14\n",
      "omega =  3.9899942243727162 -5.654782535380032e-15\n",
      "omega =  3.9813092302542867 -5.154813861913819e-16\n",
      "omega =  3.9687231725160426 -1.9301978908818437e-17\n",
      "omega =  3.95201712841586 -2.8448957611485334e-19\n",
      "\n"
     ]
    },
    {
     "name": "stderr",
     "output_type": "stream",
     "text": [
      "/home/matt/plasma/fk-itg-slab/diagnostics/dielectric.py:131: RuntimeWarning: invalid value encountered in double_scalars\n",
      "  if abs(polc)/abs(pol) > tol:\n"
     ]
    }
   ],
   "source": [
    "import dielectric\n",
    "from scipy.optimize import fsolve\n",
    "\n",
    "th = 1.\n",
    "kx = np.linspace(0.1, 1.0, 10)\n",
    "alpha = 0.0\n",
    "\n",
    "guess = np.array([[-0.01,0.0],[1.99,0.0],[2.999,0.0],[3.99999,-0.00]])\n",
    "om = np.zeros((guess.shape[0],len(kx)))\n",
    "gm = np.zeros((guess.shape[0],len(kx)))\n",
    "\n",
    "for i in range(guess.shape[0]):\n",
    "    for j in range(len(kx)):\n",
    "        om[i,j], gm[i,j] = fsolve(dielectric.dielectricFunc_kpar0_ky0, guess[i,:], args = (th, kx[j], alpha))\n",
    "        guess[i,:] = np.array([om[i,j],gm[i,j]])\n",
    "        print('omega = ', om[i,j], gm[i,j])\n",
    "    print()"
   ]
  },
  {
   "cell_type": "code",
   "execution_count": null,
   "metadata": {
    "autoscroll": false,
    "ein.hycell": false,
    "ein.tags": "worksheet-0",
    "slideshow": {
     "slide_type": "-"
    }
   },
   "outputs": [],
   "source": []
  }
 ],
 "metadata": {
  "kernelspec": {
   "display_name": "Python 3",
   "language": "python",
   "name": "python3"
  },
  "language_info": {
   "codemirror_mode": {
    "name": "ipython",
    "version": 3
   },
   "file_extension": ".py",
   "mimetype": "text/x-python",
   "name": "python",
   "nbconvert_exporter": "python",
   "pygments_lexer": "ipython3",
   "version": "3.5.2"
  },
  "name": "dispersion_kpar0.ipynb"
 },
 "nbformat": 4,
 "nbformat_minor": 2
}
