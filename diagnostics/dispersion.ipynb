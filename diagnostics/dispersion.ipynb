{
 "cells": [
  {
   "cell_type": "code",
   "execution_count": 1,
   "metadata": {
    "autoscroll": false,
    "ein.hycell": false,
    "ein.tags": "worksheet-0",
    "slideshow": {
     "slide_type": "-"
    }
   },
   "outputs": [],
   "source": [
    "import sys\n",
    "sys.path.insert(0, '/home/matt/plasma/fk-itg-slab/diagnostics/')\n",
    "import yoshida_bin\n",
    "import numpy as np\n",
    "import matplotlib.pyplot as plt\n",
    "%matplotlib inline"
   ]
  },
  {
   "cell_type": "code",
   "execution_count": 14,
   "metadata": {
    "autoscroll": false,
    "ein.hycell": false,
    "ein.tags": "worksheet-0",
    "slideshow": {
     "slide_type": "-"
    }
   },
   "outputs": [
    {
     "name": "stdout",
     "output_type": "stream",
     "text": [
      "ky = 0.100000, omega = -0.001534, gamma = 0.000387\n",
      "ky = 0.150000, omega = -0.002325, gamma = 0.000571\n",
      "ky = 0.200000, omega = -0.003142, gamma = 0.000742\n",
      "ky = 0.250000, omega = -0.003990, gamma = 0.000897\n",
      "ky = 0.300000, omega = -0.004870, gamma = 0.001030\n",
      "ky = 0.350000, omega = -0.005779, gamma = 0.001136\n",
      "ky = 0.400000, omega = -0.006711, gamma = 0.001213\n",
      "ky = 0.450000, omega = -0.007659, gamma = 0.001256\n",
      "ky = 0.500000, omega = -0.008613, gamma = 0.001266\n",
      "ky = 0.550000, omega = -0.009562, gamma = 0.001239\n",
      "ky = 0.600000, omega = -0.010494, gamma = 0.001177\n",
      "ky = 0.650000, omega = -0.011400, gamma = 0.001080\n",
      "ky = 0.700000, omega = -0.012269, gamma = 0.000948\n",
      "ky = 0.750000, omega = -0.013095, gamma = 0.000781\n",
      "ky = 0.800000, omega = -0.013871, gamma = 0.000580\n",
      "ky = 0.100000, omega = 0.204933, gamma = -0.000103\n",
      "ky = 0.150000, omega = 0.277957, gamma = -0.000720\n",
      "ky = 0.200000, omega = 0.335066, gamma = -0.002995\n",
      "ky = 0.250000, omega = 0.382015, gamma = -0.008106\n",
      "ky = 0.300000, omega = 0.422514, gamma = -0.016472\n",
      "ky = 0.350000, omega = 0.458675, gamma = -0.027850\n",
      "ky = 0.400000, omega = 0.491711, gamma = -0.041707\n",
      "ky = 0.450000, omega = 0.522352, gamma = -0.057434\n",
      "ky = 0.500000, omega = 0.551069, gamma = -0.074447\n",
      "ky = 0.550000, omega = 0.578190, gamma = -0.092217\n",
      "ky = 0.600000, omega = 0.603973, gamma = -0.110285\n",
      "ky = 0.650000, omega = 0.628636, gamma = -0.128257\n",
      "ky = 0.700000, omega = 0.652373, gamma = -0.145814\n",
      "ky = 0.750000, omega = 0.675363, gamma = -0.162696\n",
      "ky = 0.800000, omega = 0.697765, gamma = -0.178705\n",
      "ky = 0.100000, omega = 1.964798, gamma = 0.000000\n",
      "ky = 0.150000, omega = 1.957260, gamma = -0.000000\n",
      "ky = 0.200000, omega = 1.946909, gamma = -0.000000\n",
      "ky = 0.250000, omega = 1.933958, gamma = -0.000000\n",
      "ky = 0.300000, omega = 1.918664, gamma = -0.000000\n",
      "ky = 0.350000, omega = 1.901314, gamma = -0.000000\n",
      "ky = 0.400000, omega = 1.882218, gamma = -0.000000\n",
      "ky = 0.450000, omega = 1.861690, gamma = -0.000000\n",
      "ky = 0.500000, omega = 1.840048, gamma = -0.000000\n",
      "ky = 0.550000, omega = 1.817604, gamma = -0.000000\n",
      "ky = 0.600000, omega = 1.794661, gamma = -0.000000\n",
      "ky = 0.650000, omega = 1.771512, gamma = -0.000000\n",
      "ky = 0.700000, omega = 1.748443, gamma = -0.000000\n",
      "ky = 0.750000, omega = 1.725735, gamma = -0.000003\n",
      "ky = 0.800000, omega = 1.703677, gamma = -0.000024\n",
      "ky = 0.100000, omega = 2.998127, gamma = -0.000494\n",
      "ky = 0.150000, omega = 2.997192, gamma = -0.000742\n",
      "ky = 0.200000, omega = 2.995933, gamma = -0.000795\n",
      "ky = 0.250000, omega = 2.994243, gamma = -0.000669\n",
      "ky = 0.300000, omega = 2.991993, gamma = -0.000438\n",
      "ky = 0.350000, omega = 2.989024, gamma = -0.000200\n",
      "ky = 0.400000, omega = 2.985124, gamma = -0.000051\n",
      "ky = 0.450000, omega = 2.980062, gamma = -0.000005\n",
      "ky = 0.500000, omega = 2.973698, gamma = -0.000000\n",
      "ky = 0.550000, omega = 2.965995, gamma = -0.000000\n",
      "ky = 0.600000, omega = 2.956949, gamma = 0.000000\n",
      "ky = 0.650000, omega = 2.946585, gamma = 0.000000\n",
      "ky = 0.700000, omega = 2.934958, gamma = 0.000000\n",
      "ky = 0.750000, omega = 2.922152, gamma = -0.000000\n",
      "ky = 0.800000, omega = 2.908274, gamma = -0.000000\n",
      "ky = 0.100000, omega = 3.999391, gamma = -0.002569\n",
      "ky = 0.150000, omega = 3.999057, gamma = -0.003728\n",
      "ky = 0.200000, omega = 3.998659, gamma = -0.004651\n",
      "ky = 0.250000, omega = 3.998179, gamma = -0.005322\n",
      "ky = 0.300000, omega = 3.997592, gamma = -0.005742\n",
      "ky = 0.350000, omega = 3.996872, gamma = -0.005921\n",
      "ky = 0.400000, omega = 3.995985, gamma = -0.005871\n",
      "ky = 0.450000, omega = 3.994892, gamma = -0.005608\n",
      "ky = 0.500000, omega = 3.993548, gamma = -0.005154\n",
      "ky = 0.550000, omega = 3.991899, gamma = -0.004538\n",
      "ky = 0.600000, omega = 3.989888, gamma = -0.003798\n",
      "ky = 0.650000, omega = 3.987449, gamma = -0.002985\n",
      "ky = 0.700000, omega = 3.984513, gamma = -0.002159\n",
      "ky = 0.750000, omega = 3.980997, gamma = -0.001392\n",
      "ky = 0.800000, omega = 3.976804, gamma = -0.000759\n"
     ]
    },
    {
     "name": "stderr",
     "output_type": "stream",
     "text": [
      "/home/matt/plasma/fk-itg-slab/diagnostics/dielectric.py:204: RuntimeWarning: invalid value encountered in double_scalars\n",
      "  elif abs(ngradc)/abs(ngrad) > tol:\n"
     ]
    }
   ],
   "source": [
    "import dielectric\n",
    "from scipy.optimize import fsolve\n",
    "\n",
    "th = 1.\n",
    "kx = 0.2\n",
    "ky = np.linspace(0.1,0.8,15)\n",
    "kpar = 0.01 * ky\n",
    "kapn = 0.00\n",
    "kapt = 0.05\n",
    "alpha = 0.0\n",
    "memi = 1./1836.\n",
    "\n",
    "guess = np.array([[-.001,.0001],[0.2,0.0],[1.99,0.0],[2.999,0.0],[3.9999,-0.005]])\n",
    "om = np.zeros((guess.shape[0],len(ky)))\n",
    "gm = np.zeros((guess.shape[0],len(ky)))\n",
    "\n",
    "for i in range(guess.shape[0]):\n",
    "    for j in range(len(ky)):\n",
    "        om[i,j], gm[i,j] = fsolve(dielectric.DKEdielectricFunc, guess[i,:], args = (th, kx, ky[j], kpar[j], kapn, kapt, alpha, memi))\n",
    "        guess[i,:] = np.array([om[i,j],gm[i,j]])\n",
    "        print('ky = {0:.6f}, omega = {1:.6f}, gamma = {2:.6f}'.format(ky[j],om[i,j],gm[i,j]))\n"
   ]
  },
  {
   "cell_type": "code",
   "execution_count": 3,
   "metadata": {
    "autoscroll": false,
    "ein.hycell": false,
    "ein.tags": "worksheet-0",
    "slideshow": {
     "slide_type": "-"
    }
   },
   "outputs": [
    {
     "data": {
      "image/png": "[encoded data removed]",
      "text/plain": [
       "<Figure size 432x288 with 2 Axes>"
      ]
     },
     "metadata": {},
     "output_type": "display_data"
    }
   ],
   "source": [
    "plt.figure()\n",
    "plt.suptitle(\"Full-kinetic-ion-drift-kinetic-electron Dispersion Relation\\n($k_x = 0.1$, $k_\\parallel = 0.01 k_y$, $\\kappa_T = 0.05$, $\\kappa_n = 0.01$)\", fontsize=14)\n",
    "\n",
    "lines = ['r-','b-','g-','y-']\n",
    "\n",
    "plt.subplot(121)\n",
    "plt.plot(ky,om[0,:],lines[0])\n",
    "plt.plot(ky,gm[0,:],lines[1])\n",
    "plt.xlim([0.0,0.9])\n",
    "plt.xlabel(\"$k_y$\")\n",
    "plt.ylabel(\"$\\omega$\")\n",
    "plt.title(\"ITG\")\n",
    "plt.legend([\"Re[$\\omega$]\",\"Im[$\\omega$]\"],loc=\"best\")\n",
    "#plt.xticks(visible=False)\n",
    "\n",
    "plt.subplot(122)\n",
    "for i in range(1, guess.shape[0]):\n",
    "    plt.plot(ky,om[i,:],lines[i-1])\n",
    "\n",
    "#plt.ylim(bottom = 0.0)\n",
    "plt.ylim([0.0,4.5])\n",
    "plt.xlim([0.0,0.9])\n",
    "plt.xlabel(\"$k_y$\")\n",
    "plt.ylabel(\"Re[$\\omega$]\")\n",
    "plt.title(\"Electrostatic IC Wave, Pure IB Modes\")\n",
    "plt.legend([\"EIC\",\"PIB 1\",\"PIB 2\",\"PIB 3\"],loc=\"upper right\")\n",
    "\n",
    "plt.gcf().subplots_adjust(top=.8, left=.15, wspace = 0.4)\n",
    "plt.savefig(\"dke_disp.png\")\n"
   ]
  },
  {
   "cell_type": "code",
   "execution_count": null,
   "metadata": {
    "autoscroll": false,
    "ein.hycell": false,
    "ein.tags": "worksheet-0",
    "slideshow": {
     "slide_type": "-"
    }
   },
   "outputs": [],
   "source": []
  },
  {
   "cell_type": "code",
   "execution_count": null,
   "metadata": {
    "autoscroll": false,
    "ein.hycell": false,
    "ein.tags": "worksheet-0",
    "slideshow": {
     "slide_type": "-"
    }
   },
   "outputs": [],
   "source": []
  },
  {
   "cell_type": "code",
   "execution_count": null,
   "metadata": {
    "autoscroll": false,
    "ein.hycell": false,
    "ein.tags": "worksheet-0",
    "slideshow": {
     "slide_type": "-"
    }
   },
   "outputs": [],
   "source": []
  }
 ],
 "metadata": {
  "kernelspec": {
   "display_name": "Python 3",
   "language": "python",
   "name": "python3"
  },
  "language_info": {
   "codemirror_mode": {
    "name": "ipython",
    "version": 3
   },
   "file_extension": ".py",
   "mimetype": "text/x-python",
   "name": "python",
   "nbconvert_exporter": "python",
   "pygments_lexer": "ipython3",
   "version": "3.5.2"
  },
  "name": "dispersion.ipynb"
 },
 "nbformat": 4,
 "nbformat_minor": 2
}
